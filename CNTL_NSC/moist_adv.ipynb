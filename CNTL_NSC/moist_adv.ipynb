{
 "cells": [
  {
   "cell_type": "markdown",
   "metadata": {},
   "source": [
    "## Diff. in CNTL and NSC vertical moisture advection "
   ]
  },
  {
   "cell_type": "markdown",
   "metadata": {},
   "source": [
    "### Import package"
   ]
  },
  {
   "cell_type": "code",
   "execution_count": 48,
   "metadata": {},
   "outputs": [],
   "source": [
    "import numpy as np\n",
    "import xarray as xr\n",
    "import pickle as pkl\n",
    "\n",
    "from matplotlib import pyplot as plt"
   ]
  },
  {
   "cell_type": "markdown",
   "metadata": {},
   "source": [
    "### Load data"
   ]
  },
  {
   "cell_type": "code",
   "execution_count": 49,
   "metadata": {},
   "outputs": [],
   "source": [
    "# file path\n",
    "path = \"/work/b11209013/2024_Research/MPAS/merged_data/\"\n",
    "\n",
    "# load CNTL data\n",
    "data = {} # dictionary for saving data\n",
    "\n",
    "with xr.open_dataset(f\"{path}CNTL/w.nc\") as f:\n",
    "    # dimension data\n",
    "    dims = f.sel(lat=slice(-5, 5)).coords\n",
    "    \n",
    "    data[\"cntl_w\"] = f[\"w\"].sel(lat=slice(-5, 5))\n",
    "\n",
    "with xr.open_dataset(f\"{path}CNTL/qv.nc\") as f:\n",
    "    data[\"cntl_qv\"] = f[\"qv\"].sel(lat=slice(-5, 5)) * 1000.\n",
    "    \n",
    "# load NSC data\n",
    "with xr.open_dataset(f\"{path}NSC/w.nc\") as f:\n",
    "    data[\"nsc_w\"] = f[\"w\"].sel(lat=slice(-5, 5))\n",
    "    \n",
    "with xr.open_dataset(f\"{path}NSC/qv.nc\") as f:\n",
    "    data[\"nsc_qv\"] = f[\"qv\"].sel(lat=slice(-5, 5)) * 1000.\n",
    "    \n",
    "# load CCKW events\n",
    "with open(\"/home/b11209013/Bachelor_Thesis/Major/CCKWs_Selection/CNTL_comp.pkl\", \"rb\") as f:\n",
    "    cntl_comp = pkl.load(f);\n",
    "\n",
    "with open(\"/home/b11209013/Bachelor_Thesis/Major/CCKWs_Selection/NSC_comp.pkl\", \"rb\") as f:\n",
    "    nsc_comp = pkl.load(f);\n",
    "\n",
    "sel_lon: dict[str, np.ndarray] = dict(\n",
    "    cntl=np.array(cntl_comp[\"sel_lon\"]),\n",
    "    nsc =np.array(nsc_comp[\"sel_lon\"]),\n",
    ")\n",
    "\n",
    "sel_time: dict[str, np.ndarray] = dict(\n",
    "    cntl=np.array(cntl_comp[\"sel_time\"]),\n",
    "    nsc =np.array(nsc_comp[\"sel_time\"]),\n",
    ")"
   ]
  },
  {
   "cell_type": "markdown",
   "metadata": {},
   "source": [
    "\n",
    "### Processing data"
   ]
  },
  {
   "cell_type": "code",
   "execution_count": 50,
   "metadata": {},
   "outputs": [],
   "source": [
    "# Compute mean moisture\n",
    "qv_mean = {\n",
    "    \"cntl\": data[\"cntl_qv\"].mean({\"time\", \"lat\", \"lon\"}),\n",
    "    \"nsc\" : data[\"nsc_qv\"].mean({\"time\", \"lat\", \"lon\"}),\n",
    "}\n",
    "\n",
    "# Compute vertical motion with climatology and zonal mean removed\n",
    "w_rm_cli = {\n",
    "    \"cntl\": (data[\"cntl_w\"] - data[\"cntl_w\"].mean({\"time\", \"lon\"})).mean({\"lat\"}),\n",
    "    \"nsc\" : (data[\"nsc_w\"]  - data[\"nsc_w\"].mean({\"time\", \"lon\"})).mean({\"lat\"}),\n",
    "}"
   ]
  },
  {
   "cell_type": "markdown",
   "metadata": {},
   "source": [
    "### Select data"
   ]
  },
  {
   "cell_type": "code",
   "execution_count": 51,
   "metadata": {},
   "outputs": [
    {
     "name": "stdout",
     "output_type": "stream",
     "text": [
      "[[[-7.91231636e-04 -1.64532883e-03 -2.66830204e-03 ... -1.20559838e-02\n",
      "   -3.51465563e-03  5.66520495e-03]\n",
      "  [-2.37546206e-04 -5.53392048e-04 -1.01437257e-03 ... -1.02375764e-02\n",
      "    8.19321431e-04 -2.90705147e-03]\n",
      "  [-4.14145965e-04 -9.12761956e-04 -1.70183671e-03 ... -9.03953507e-04\n",
      "    3.42911622e-03  1.24820785e-04]\n",
      "  ...\n",
      "  [ 1.98945665e-04  2.61731999e-04  1.87040889e-04 ... -4.24729381e-03\n",
      "    4.73962026e-03  3.13528138e-03]\n",
      "  [ 1.54482346e-04  2.65045208e-04  2.27979937e-04 ...  1.87702174e-03\n",
      "    6.30840380e-03  3.19063547e-03]\n",
      "  [-4.91789906e-05 -2.63334718e-04 -7.06200954e-04 ... -5.28311823e-03\n",
      "   -3.98418354e-03 -5.77584980e-03]]\n",
      "\n",
      " [[-3.65959364e-04 -7.73688371e-04 -1.26177561e-03 ... -9.90661327e-03\n",
      "   -6.54923683e-03 -7.69242877e-03]\n",
      "  [-4.81421375e-05 -2.81279390e-05  1.03513150e-04 ...  3.42894904e-03\n",
      "    1.44559512e-04 -2.20569037e-03]\n",
      "  [ 1.79852912e-04  3.31863499e-04  4.82090662e-04 ...  7.55004352e-03\n",
      "   -3.10468022e-04 -3.70936608e-03]\n",
      "  ...\n",
      "  [ 5.76683029e-04  1.34811411e-03  2.70207273e-03 ... -1.86067782e-02\n",
      "   -6.34820247e-03  1.76705624e-04]\n",
      "  [-2.16299813e-04 -5.21830050e-04 -1.08041393e-03 ... -1.73434317e-02\n",
      "   -5.13625937e-03 -1.11315551e-03]\n",
      "  [ 4.84938500e-04  1.13617862e-03  1.76007580e-03 ... -7.66439084e-03\n",
      "    3.97211313e-03 -3.94668616e-03]]\n",
      "\n",
      " [[-1.09246001e-04 -2.14166663e-04 -3.85673775e-04 ...  1.73701462e-03\n",
      "    3.45718861e-03 -2.67772877e-04]\n",
      "  [ 2.39492540e-04  4.20670724e-04  9.92005575e-04 ... -3.46638751e-03\n",
      "   -2.53262324e-03 -5.58593951e-04]\n",
      "  [-4.20121214e-05 -8.75447004e-05 -2.21773560e-04 ... -2.51427526e-03\n",
      "   -2.69267312e-03 -2.89929472e-03]\n",
      "  ...\n",
      "  [-3.52258852e-04 -7.82141287e-04 -1.49264815e-03 ...  7.15456763e-03\n",
      "    1.13652032e-02  4.15959628e-03]\n",
      "  [-1.13486405e-03 -2.47382186e-03 -4.30758391e-03 ...  2.87974114e-03\n",
      "    2.45459075e-03 -3.09857773e-03]\n",
      "  [-8.45856150e-04 -1.81759393e-03 -3.37870792e-03 ...  9.19154845e-03\n",
      "    1.04758684e-02  5.34305349e-03]]\n",
      "\n",
      " ...\n",
      "\n",
      " [[-2.74574995e-04 -6.11552328e-04 -1.24294742e-03 ... -1.59152634e-02\n",
      "   -8.97434889e-04  3.23027140e-03]\n",
      "  [ 2.27104218e-04  3.45754495e-04  3.24939727e-04 ...  1.35360123e-03\n",
      "    7.02958461e-03  7.58314226e-03]\n",
      "  [ 7.21186283e-04  1.41608005e-03  2.08825618e-03 ... -5.19875111e-03\n",
      "    2.60713371e-03  3.51713528e-03]\n",
      "  ...\n",
      "  [ 3.02633882e-04  5.89330797e-04  1.14953937e-03 ...  3.99984710e-04\n",
      "    3.60544026e-03 -4.34413465e-04]\n",
      "  [ 2.31451399e-04  4.89911414e-04  1.37246470e-03 ... -8.16188101e-03\n",
      "    1.33227580e-03  9.44956206e-04]\n",
      "  [ 8.60141081e-05  1.74444023e-04  4.62407392e-04 ...  1.02027440e-02\n",
      "    1.07157584e-02 -3.76921217e-03]]\n",
      "\n",
      " [[ 1.01895654e-04  2.25447395e-04  6.71574613e-04 ... -7.52573181e-03\n",
      "   -8.12462159e-03  2.52250815e-03]\n",
      "  [ 5.74640289e-04  1.25540292e-03  2.14726175e-03 ... -1.02332663e-02\n",
      "   -1.30684488e-03  7.57331029e-03]\n",
      "  [-4.24932397e-04 -9.71961766e-04 -1.66840362e-03 ... -2.68745236e-03\n",
      "   -1.02491723e-02 -1.35386987e-02]\n",
      "  ...\n",
      "  [ 7.25998543e-04  1.43318868e-03  2.01939535e-03 ...  7.35620707e-02\n",
      "    3.91847342e-02  3.30987349e-02]\n",
      "  [-3.34417191e-03 -6.61802152e-03 -1.07077435e-02 ...  4.51702401e-02\n",
      "    1.43861296e-02  7.65079400e-03]\n",
      "  [-3.07011371e-03 -5.96457254e-03 -9.75163095e-03 ...  3.86903808e-02\n",
      "    1.31056588e-02  1.28965499e-02]]\n",
      "\n",
      " [[-8.41373869e-04 -1.85861695e-03 -3.43007920e-03 ...  1.74980075e-03\n",
      "    1.31272699e-03  6.33332785e-03]\n",
      "  [-7.57534523e-04 -1.59955083e-03 -2.86013586e-03 ... -7.28339236e-03\n",
      "    7.02818739e-04  6.14250824e-03]\n",
      "  [-6.08697774e-05 -1.68469109e-04 -4.79844486e-04 ... -6.79795584e-03\n",
      "   -3.67928110e-03 -8.53529945e-03]\n",
      "  ...\n",
      "  [-8.53571255e-05 -1.76826419e-04 -2.74722697e-04 ...  7.20642041e-03\n",
      "    5.25839580e-03  2.98047764e-03]\n",
      "  [ 3.21928004e-04  7.61468895e-04  1.43320090e-03 ...  1.61522962e-02\n",
      "    9.59619973e-03 -1.77825929e-03]\n",
      "  [ 3.54873948e-04  6.68278313e-04  9.83026577e-04 ...  5.15318988e-03\n",
      "   -3.92532814e-03 -5.01522748e-03]]]\n"
     ]
    }
   ],
   "source": [
    "data_sel = {\n",
    "    \"cntl_w\": np.array([\n",
    "        w_rm_cli[\"cntl\"][i-12:i+12, :, j]\n",
    "            for i, j in zip(sel_time[\"cntl\"], sel_lon[\"cntl\"])\n",
    "    ]),\n",
    "    \"nsc_w\": np.array([\n",
    "        w_rm_cli[\"nsc\"][i-12:i+12, :, j]\n",
    "            for i, j in zip(sel_time[\"nsc\"], sel_lon[\"nsc\"])\n",
    "    ])\n",
    "}\n",
    "\n",
    "print(data_sel[\"cntl_w\"])"
   ]
  },
  {
   "cell_type": "markdown",
   "metadata": {},
   "source": [
    "### Compute vertical advection"
   ]
  },
  {
   "cell_type": "code",
   "execution_count": null,
   "metadata": {},
   "outputs": [
    {
     "name": "stdout",
     "output_type": "stream",
     "text": [
      "(24, 38)\n"
     ]
    },
    {
     "data": {
      "image/png": "[encoded data removed]",
      "text/plain": [
       "<Figure size 800x300 with 1 Axes>"
      ]
     },
     "metadata": {},
     "output_type": "display_data"
    },
    {
     "ename": "",
     "evalue": "",
     "output_type": "error",
     "traceback": [
      "\u001b[1;31mThe Kernel crashed while executing code in the current cell or a previous cell. \n",
      "\u001b[1;31mPlease review the code in the cell(s) to identify a possible cause of the failure. \n",
      "\u001b[1;31mClick <a href='https://aka.ms/vscodeJupyterKernelCrash'>here</a> for more info. \n",
      "\u001b[1;31mView Jupyter <a href='command:jupyter.viewOutput'>log</a> for further details."
     ]
    }
   ],
   "source": [
    "# Compute vertical moisture gradient\n",
    "qv_grad = {\n",
    "    \"cntl\": np.array((qv_mean[\"cntl\"].differentiate(\"lev\") / 100).values),\n",
    "    \"nsc\" : np.array((qv_mean[\"nsc\"].differentiate(\"lev\") / 100).values)\n",
    "}\n",
    "\n",
    "# Compute vertical moisture advection\n",
    "qv_adv = {\n",
    "    \"cntl\": (qv_grad[\"cntl\"][None, None, :] * data_sel[\"cntl_w\"]).mean(axis=0),\n",
    "    \"nsc\" : (qv_grad[\"nsc\"][None, None, :]  * data_sel[\"nsc_w\"]).mean(axis=0)\n",
    "}\n",
    "print(qv_adv[\"cntl\"].shape)\n",
    "# Construct daily format\n",
    "daily_qv_adv = {\n",
    "    \"cntl\": np.array([qv_adv[\"cntl\"][i*4:(i+1)*4].mean(axis=0) for i in range(6)]).T,\n",
    "    \"nsc\" : np.array([qv_adv[\"nsc\"][i*4:(i+1)*4].mean(axis=0) for i in range(6)]).T\n",
    "}\n",
    "\n",
    "# Compute vertical integrate\n",
    "def vert_int(data):\n",
    "    data_ave = (data[1:] + data[:-1]) / 2.;\n",
    "    data_vint = -np.sum(data_ave * np.diff(dims[\"lev\"]*100.)[:, None], axis=0) / -np.sum(np.diff(dims[\"lev\"]*100.));\n",
    "    return data_vint\n",
    "\n",
    "vert_vadv = {\n",
    "    \"cntl\": vert_int(daily_qv_adv[\"cntl\"]),\n",
    "    \"nsc\" : vert_int(daily_qv_adv[\"nsc\"])\n",
    "}\n",
    "\n",
    "diff = (vert_vadv[\"nsc\"] - vert_vadv[\"cntl\"]) * 86400\n",
    "pos = np.where(diff >= 0)\n",
    "neg = np.where(diff <0)\n",
    "\n",
    "plt.rcParams[\"font.family\"]=\"serif\"\n",
    "plt.figure(figsize=(8, 3))\n",
    "\n",
    "plt.bar(np.linspace(-2.5, 2.5, 6)[pos], diff[pos], color=\"red\", width=0.2)\n",
    "plt.bar(np.linspace(-2.5, 2.5, 6)[neg], diff[neg], color=\"blue\", width=0.2)\n",
    "plt.axhline(0, linestyle=\"--\", color=\"black\")\n",
    "plt.xlim(3, -3)\n",
    "plt.ylim(-0.06, 0.06)\n",
    "plt.xlabel(\"Lag days\")\n",
    "plt.ylabel(\"Vertical Moisture Advection\")\n",
    "plt.savefig(\"/home/b11209013/Bachelor_Thesis/Major/Figure/Appendix05.png\", dpi=300)\n",
    "plt.text(2.5, -0.04, f\"NSC - CNTL = {diff.sum():.2e} [(g/kg)/day]\", fontsize=12)\n",
    "plt.show()\n"
   ]
  }
 ],
 "metadata": {
  "kernelspec": {
   "display_name": "atmo",
   "language": "python",
   "name": "python3"
  },
  "language_info": {
   "codemirror_mode": {
    "name": "ipython",
    "version": 3
   },
   "file_extension": ".py",
   "mimetype": "text/x-python",
   "name": "python",
   "nbconvert_exporter": "python",
   "pygments_lexer": "ipython3",
   "version": "3.11.11"
  }
 },
 "nbformat": 4,
 "nbformat_minor": 2
}
