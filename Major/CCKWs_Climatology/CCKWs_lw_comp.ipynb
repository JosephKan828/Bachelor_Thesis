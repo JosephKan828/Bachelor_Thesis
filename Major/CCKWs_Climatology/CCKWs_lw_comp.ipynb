{
 "cells": [
  {
   "cell_type": "markdown",
   "metadata": {},
   "source": [
    "## CCKWs LW Profile Composite"
   ]
  },
  {
   "cell_type": "markdown",
   "metadata": {},
   "source": [
    "### Import package"
   ]
  },
  {
   "cell_type": "code",
   "execution_count": 26,
   "metadata": {},
   "outputs": [],
   "source": [
    "import numpy as np\n",
    "import xarray as xr\n",
    "import pickle as pkl\n",
    "import matplotlib.pyplot as plt\n",
    "import matplotlib.gridspec as gridspec\n",
    "\n",
    "from matplotlib.colors import TwoSlopeNorm\n",
    "from mpl_toolkits.axes_grid1.inset_locator import inset_axes;"
   ]
  },
  {
   "cell_type": "markdown",
   "metadata": {},
   "source": [
    "### Load data"
   ]
  },
  {
   "cell_type": "markdown",
   "metadata": {},
   "source": [
    "#### Load Dimension"
   ]
  },
  {
   "cell_type": "code",
   "execution_count": 13,
   "metadata": {},
   "outputs": [],
   "source": [
    "# file path\n",
    "path = \"/work/b11209013/2024_Research/MPAS/merged_data/CNTL/\"\n",
    "\n",
    "# variable list\n",
    "var_list = [\"rthratenlw\", \"rthratensw\", \"theta\"]\n",
    "\n",
    "# Load Coordinate\n",
    "with xr.open_dataset(f\"{path}rthratenlw.nc\") as f:\n",
    "    dims = f.sel(lat = slice(-5, 5))\n",
    "    \n",
    "## conversion between potential temperature to temperature\n",
    "convert = (1000. / dims[\"lev\"]) ** (-0.286)"
   ]
  },
  {
   "cell_type": "markdown",
   "metadata": {},
   "source": [
    "#### Load variable"
   ]
  },
  {
   "cell_type": "code",
   "execution_count": 14,
   "metadata": {},
   "outputs": [],
   "source": [
    "data = {}\n",
    "\n",
    "with xr.open_dataset(f\"{path}rthratenlw.nc\") as f:\n",
    "    data[\"lw\"]      = f[\"rthratenlw\"].sel(lat=slice(-5, 5)) * convert * 86400\n",
    "\n",
    "with xr.open_dataset(f\"{path}rthratensw.nc\") as f:\n",
    "    data[\"sw\"]      = f[\"rthratensw\"].sel(lat=slice(-5, 5)) * convert * 86400\n",
    "\n",
    "with xr.open_dataset(f\"{path}theta.nc\") as f:\n",
    "    data[\"theta\"]   = f[\"theta\"].sel(lat=slice(-5, 5))\n",
    "    data[\"t\"]       = data[\"theta\"] * convert"
   ]
  },
  {
   "cell_type": "markdown",
   "metadata": {},
   "source": [
    "#### Load CNTL CCKWs Events"
   ]
  },
  {
   "cell_type": "code",
   "execution_count": 15,
   "metadata": {},
   "outputs": [],
   "source": [
    "with open(\"/home/b11209013/Bachelor_Thesis/Major/CCKWs_Selection/CNTL_comp.pkl\", \"rb\") as f:\n",
    "    sel_kel = pkl.load(f)\n",
    "    \n",
    "sel_lon  = np.array(sel_kel[\"sel_lon\"])\n",
    "sel_time = np.array(sel_kel[\"sel_time\"])"
   ]
  },
  {
   "cell_type": "markdown",
   "metadata": {},
   "source": [
    "### Composite CCKWs LW Profile "
   ]
  },
  {
   "cell_type": "markdown",
   "metadata": {},
   "source": [
    "#### Compute anomalous data"
   ]
  },
  {
   "cell_type": "code",
   "execution_count": 16,
   "metadata": {},
   "outputs": [],
   "source": [
    "# compute variable anomalies, repsect to mean over time and longitude\n",
    "data_ano = {\n",
    "    key: data[key] - data[key].mean(dim=(\"time\", \"lon\", \"lat\"), skipna=True)\n",
    "    for key in [\"lw\", \"sw\", \"t\"]\n",
    "}"
   ]
  },
  {
   "cell_type": "markdown",
   "metadata": {},
   "source": [
    "#### Select data"
   ]
  },
  {
   "cell_type": "code",
   "execution_count": null,
   "metadata": {},
   "outputs": [],
   "source": [
    "data_sel = {}\n",
    "\n",
    "# Select CCKWs and mean over composite\n",
    "for var in data_ano.keys():\n",
    "    data_sel[var] = np.array([\n",
    "        data_ano[var].isel(\n",
    "            time=slice(sel_time[i]-12, sel_time[i]+12),\n",
    "            lon=sel_lon[i]\n",
    "        )\n",
    "        for i in range(sel_lon.size)\n",
    "    ]).mean(axis=(3))\n",
    "\n",
    "# Composite \n",
    "data_comp = {}\n",
    "for var in data_sel.keys():\n",
    "    data_comp[var] = data_sel[var].mean(axis=0)\n",
    "\n",
    "# Compute daily data\n",
    "data_daily = {\n",
    "    var: np.array([\n",
    "        data_comp[var][i*4:(i+1)*4].mean(axis=0)\n",
    "        for i in range(6)\n",
    "    ]).T\n",
    "    for var in data_sel.keys()\n",
    "}\n"
   ]
  },
  {
   "cell_type": "markdown",
   "metadata": {},
   "source": [
    "### Compute Growth rate"
   ]
  },
  {
   "cell_type": "markdown",
   "metadata": {},
   "source": [
    "#### Compute stability"
   ]
  },
  {
   "cell_type": "code",
   "execution_count": 18,
   "metadata": {},
   "outputs": [],
   "source": [
    "# Compute specific volume\n",
    "data[\"alpha\"] = 287.5 * data[\"t\"] / (dims[\"lev\"]*100.)\n",
    "\n",
    "data_ano[\"alpha\"] = data[\"alpha\"] - data[\"alpha\"].mean(dim=(\"time\", \"lat\", \"lon\"), skipna=True)\n",
    "\n",
    "# compute sigma\n",
    "sigma = -data[\"alpha\"].mean(axis=(2, 3)) / data[\"theta\"].mean(axis=(2, 3)) * np.gradient(data[\"theta\"].mean(axis=(2, 3)), dims[\"lev\"]*100., axis=1);"
   ]
  },
  {
   "cell_type": "markdown",
   "metadata": {},
   "source": [
    "#### Select sigma and $\\alpha$"
   ]
  },
  {
   "cell_type": "code",
   "execution_count": 19,
   "metadata": {},
   "outputs": [],
   "source": [
    "alpha_sel = np.array([\n",
    "    data_ano[\"alpha\"].isel(\n",
    "        time=slice(sel_time[i]-12, sel_time[i]+12),\n",
    "        lon=sel_lon[i]\n",
    "    )\n",
    "    for i in range(sel_lon.size)\n",
    "]).mean(axis=3)\n",
    "\n",
    "sigma_sel = np.array([\n",
    "    sigma.isel(\n",
    "        time=slice(sel_time[i]-12, sel_time[i]+12)\n",
    "    )\n",
    "    for i in range(sel_lon.size)\n",
    "])"
   ]
  },
  {
   "cell_type": "code",
   "execution_count": 20,
   "metadata": {},
   "outputs": [
    {
     "name": "stdout",
     "output_type": "stream",
     "text": [
      "(15, 24, 38)\n"
     ]
    }
   ],
   "source": [
    "print(alpha_sel.shape)  "
   ]
  },
  {
   "cell_type": "markdown",
   "metadata": {},
   "source": [
    "#### Growth rate"
   ]
  },
  {
   "cell_type": "code",
   "execution_count": 23,
   "metadata": {},
   "outputs": [
    {
     "name": "stdout",
     "output_type": "stream",
     "text": [
      "(15, 24, 38)\n",
      "(15, 24, 38)\n"
     ]
    }
   ],
   "source": [
    "def growth_rate_comp(heating):\n",
    "    lev = dims[\"lev\"].expand_dims({\"time\": heating.shape[0], \"lon\": heating.shape[1]}, axis=(0, 1))\n",
    "    print(heating.shape)\n",
    "    growth_rate = 287.5 / (1004.5*lev* sigma_sel) * (alpha_sel * heating)\n",
    "\n",
    "    return growth_rate\n",
    "\n",
    "growth_rate = {\n",
    "    key: growth_rate_comp(data_sel[key])\n",
    "    for key in [\"lw\", \"sw\"]\n",
    "}\n",
    "\n"
   ]
  },
  {
   "cell_type": "markdown",
   "metadata": {},
   "source": [
    "#### Compute net effect of LW and SW"
   ]
  },
  {
   "cell_type": "code",
   "execution_count": 25,
   "metadata": {},
   "outputs": [
    {
     "name": "stdout",
     "output_type": "stream",
     "text": [
      "(38, 15)\n",
      "2.0639994935395487\n"
     ]
    }
   ],
   "source": [
    "# COmpute daily mean\n",
    "growth_rate_daiy = {\n",
    "    key: np.array([\n",
    "        growth_rate[key][:, i*4:(i+1)*4].mean(axis=1)\n",
    "        for i in range(6)\n",
    "    ]).mean(axis=0).T\n",
    "    for key in [\"lw\", \"sw\"]\n",
    "}\n",
    "\n",
    "# Compute vertical integration\n",
    "def vert_int(data):\n",
    "    data_ave = (data[1:] + data[:-1]) / 2.;\n",
    "    data_vint = -np.sum(data_ave * np.diff(dims[\"lev\"]*100.)[:, None], axis=0) / -np.sum(np.diff(dims[\"lev\"]*100.));\n",
    "    return data_vint\n",
    "\n",
    "print(growth_rate_daiy[\"lw\"].shape)\n",
    "growth_rate_vint = {\n",
    "    key: vert_int(growth_rate_daiy[key])\n",
    "    for key in [\"lw\", \"sw\"]\n",
    "}\n",
    "\n",
    "print(growth_rate_vint[\"sw\"].sum())"
   ]
  },
  {
   "cell_type": "markdown",
   "metadata": {},
   "source": [
    "### Plot out composite"
   ]
  },
  {
   "cell_type": "code",
   "execution_count": 27,
   "metadata": {},
   "outputs": [
    {
     "ename": "TypeError",
     "evalue": "Dimensions of C (38, 15, 6) should be one smaller than X(6) and Y(38) while using shading='flat' see help(pcolormesh)",
     "output_type": "error",
     "traceback": [
      "\u001b[0;31m---------------------------------------------------------------------------\u001b[0m",
      "\u001b[0;31mTypeError\u001b[0m                                 Traceback (most recent call last)",
      "Cell \u001b[0;32mIn[27], line 13\u001b[0m\n\u001b[1;32m     11\u001b[0m \u001b[38;5;66;03m# Upper penel (pcolormesh & contour)\u001b[39;00m\n\u001b[1;32m     12\u001b[0m ax0 \u001b[38;5;241m=\u001b[39m fig\u001b[38;5;241m.\u001b[39madd_subplot(gs[\u001b[38;5;241m0\u001b[39m])\n\u001b[0;32m---> 13\u001b[0m lw_cf \u001b[38;5;241m=\u001b[39m \u001b[43max0\u001b[49m\u001b[38;5;241;43m.\u001b[39;49m\u001b[43mpcolormesh\u001b[49m\u001b[43m(\u001b[49m\n\u001b[1;32m     14\u001b[0m \u001b[43m    \u001b[49m\u001b[43mnp\u001b[49m\u001b[38;5;241;43m.\u001b[39;49m\u001b[43mlinspace\u001b[49m\u001b[43m(\u001b[49m\u001b[38;5;241;43m-\u001b[39;49m\u001b[38;5;241;43m2.5\u001b[39;49m\u001b[43m,\u001b[49m\u001b[43m \u001b[49m\u001b[38;5;241;43m2.5\u001b[39;49m\u001b[43m,\u001b[49m\u001b[43m \u001b[49m\u001b[38;5;241;43m6\u001b[39;49m\u001b[43m)\u001b[49m\u001b[43m,\u001b[49m\u001b[43m \u001b[49m\u001b[43mdims\u001b[49m\u001b[43m[\u001b[49m\u001b[38;5;124;43m\"\u001b[39;49m\u001b[38;5;124;43mlev\u001b[39;49m\u001b[38;5;124;43m\"\u001b[39;49m\u001b[43m]\u001b[49m\u001b[43m,\u001b[49m\n\u001b[1;32m     15\u001b[0m \u001b[43m    \u001b[49m\u001b[43mdata_daily\u001b[49m\u001b[43m[\u001b[49m\u001b[38;5;124;43m\"\u001b[39;49m\u001b[38;5;124;43mlw\u001b[39;49m\u001b[38;5;124;43m\"\u001b[39;49m\u001b[43m]\u001b[49m\u001b[43m,\u001b[49m\u001b[43m \u001b[49m\u001b[43mcmap\u001b[49m\u001b[38;5;241;43m=\u001b[39;49m\u001b[38;5;124;43m\"\u001b[39;49m\u001b[38;5;124;43mRdBu_r\u001b[39;49m\u001b[38;5;124;43m\"\u001b[39;49m\u001b[43m,\u001b[49m\u001b[43m \u001b[49m\u001b[43mnorm\u001b[49m\u001b[38;5;241;43m=\u001b[39;49m\u001b[43mTwoSlopeNorm\u001b[49m\u001b[43m(\u001b[49m\u001b[43mvcenter\u001b[49m\u001b[38;5;241;43m=\u001b[39;49m\u001b[38;5;241;43m0\u001b[39;49m\u001b[43m)\u001b[49m\u001b[43m,\u001b[49m\n\u001b[1;32m     16\u001b[0m \u001b[43m)\u001b[49m\n\u001b[1;32m     17\u001b[0m t_cf \u001b[38;5;241m=\u001b[39m ax0\u001b[38;5;241m.\u001b[39mcontour(\n\u001b[1;32m     18\u001b[0m     np\u001b[38;5;241m.\u001b[39mlinspace(\u001b[38;5;241m-\u001b[39m\u001b[38;5;241m3\u001b[39m, \u001b[38;5;241m2.75\u001b[39m, \u001b[38;5;241m24\u001b[39m), dims[\u001b[38;5;124m\"\u001b[39m\u001b[38;5;124mlev\u001b[39m\u001b[38;5;124m\"\u001b[39m],\n\u001b[1;32m     19\u001b[0m     data_comp[\u001b[38;5;124m\"\u001b[39m\u001b[38;5;124mt\u001b[39m\u001b[38;5;124m\"\u001b[39m], colors\u001b[38;5;241m=\u001b[39m\u001b[38;5;124m\"\u001b[39m\u001b[38;5;124mk\u001b[39m\u001b[38;5;124m\"\u001b[39m, levels\u001b[38;5;241m=\u001b[39mnp\u001b[38;5;241m.\u001b[39marange(\u001b[38;5;241m-\u001b[39m\u001b[38;5;241m2.5\u001b[39m, \u001b[38;5;241m2.6\u001b[39m, \u001b[38;5;241m0.5\u001b[39m),\n\u001b[1;32m     20\u001b[0m )\n\u001b[1;32m     21\u001b[0m ax0\u001b[38;5;241m.\u001b[39mset_yscale(\u001b[38;5;124m\"\u001b[39m\u001b[38;5;124mlog\u001b[39m\u001b[38;5;124m\"\u001b[39m)\n",
      "File \u001b[0;32m~/miniconda3/envs/atmo/lib/python3.11/site-packages/matplotlib/__init__.py:1521\u001b[0m, in \u001b[0;36m_preprocess_data.<locals>.inner\u001b[0;34m(ax, data, *args, **kwargs)\u001b[0m\n\u001b[1;32m   1518\u001b[0m \u001b[38;5;129m@functools\u001b[39m\u001b[38;5;241m.\u001b[39mwraps(func)\n\u001b[1;32m   1519\u001b[0m \u001b[38;5;28;01mdef\u001b[39;00m\u001b[38;5;250m \u001b[39m\u001b[38;5;21minner\u001b[39m(ax, \u001b[38;5;241m*\u001b[39margs, data\u001b[38;5;241m=\u001b[39m\u001b[38;5;28;01mNone\u001b[39;00m, \u001b[38;5;241m*\u001b[39m\u001b[38;5;241m*\u001b[39mkwargs):\n\u001b[1;32m   1520\u001b[0m     \u001b[38;5;28;01mif\u001b[39;00m data \u001b[38;5;129;01mis\u001b[39;00m \u001b[38;5;28;01mNone\u001b[39;00m:\n\u001b[0;32m-> 1521\u001b[0m         \u001b[38;5;28;01mreturn\u001b[39;00m \u001b[43mfunc\u001b[49m\u001b[43m(\u001b[49m\n\u001b[1;32m   1522\u001b[0m \u001b[43m            \u001b[49m\u001b[43max\u001b[49m\u001b[43m,\u001b[49m\n\u001b[1;32m   1523\u001b[0m \u001b[43m            \u001b[49m\u001b[38;5;241;43m*\u001b[39;49m\u001b[38;5;28;43mmap\u001b[39;49m\u001b[43m(\u001b[49m\u001b[43mcbook\u001b[49m\u001b[38;5;241;43m.\u001b[39;49m\u001b[43msanitize_sequence\u001b[49m\u001b[43m,\u001b[49m\u001b[43m \u001b[49m\u001b[43margs\u001b[49m\u001b[43m)\u001b[49m\u001b[43m,\u001b[49m\n\u001b[1;32m   1524\u001b[0m \u001b[43m            \u001b[49m\u001b[38;5;241;43m*\u001b[39;49m\u001b[38;5;241;43m*\u001b[39;49m\u001b[43m{\u001b[49m\u001b[43mk\u001b[49m\u001b[43m:\u001b[49m\u001b[43m \u001b[49m\u001b[43mcbook\u001b[49m\u001b[38;5;241;43m.\u001b[39;49m\u001b[43msanitize_sequence\u001b[49m\u001b[43m(\u001b[49m\u001b[43mv\u001b[49m\u001b[43m)\u001b[49m\u001b[43m \u001b[49m\u001b[38;5;28;43;01mfor\u001b[39;49;00m\u001b[43m \u001b[49m\u001b[43mk\u001b[49m\u001b[43m,\u001b[49m\u001b[43m \u001b[49m\u001b[43mv\u001b[49m\u001b[43m \u001b[49m\u001b[38;5;129;43;01min\u001b[39;49;00m\u001b[43m \u001b[49m\u001b[43mkwargs\u001b[49m\u001b[38;5;241;43m.\u001b[39;49m\u001b[43mitems\u001b[49m\u001b[43m(\u001b[49m\u001b[43m)\u001b[49m\u001b[43m}\u001b[49m\u001b[43m)\u001b[49m\n\u001b[1;32m   1526\u001b[0m     bound \u001b[38;5;241m=\u001b[39m new_sig\u001b[38;5;241m.\u001b[39mbind(ax, \u001b[38;5;241m*\u001b[39margs, \u001b[38;5;241m*\u001b[39m\u001b[38;5;241m*\u001b[39mkwargs)\n\u001b[1;32m   1527\u001b[0m     auto_label \u001b[38;5;241m=\u001b[39m (bound\u001b[38;5;241m.\u001b[39marguments\u001b[38;5;241m.\u001b[39mget(label_namer)\n\u001b[1;32m   1528\u001b[0m                   \u001b[38;5;129;01mor\u001b[39;00m bound\u001b[38;5;241m.\u001b[39mkwargs\u001b[38;5;241m.\u001b[39mget(label_namer))\n",
      "File \u001b[0;32m~/miniconda3/envs/atmo/lib/python3.11/site-packages/matplotlib/axes/_axes.py:6491\u001b[0m, in \u001b[0;36mAxes.pcolormesh\u001b[0;34m(self, alpha, norm, cmap, vmin, vmax, colorizer, shading, antialiased, *args, **kwargs)\u001b[0m\n\u001b[1;32m   6488\u001b[0m shading \u001b[38;5;241m=\u001b[39m shading\u001b[38;5;241m.\u001b[39mlower()\n\u001b[1;32m   6489\u001b[0m kwargs\u001b[38;5;241m.\u001b[39msetdefault(\u001b[38;5;124m'\u001b[39m\u001b[38;5;124medgecolors\u001b[39m\u001b[38;5;124m'\u001b[39m, \u001b[38;5;124m'\u001b[39m\u001b[38;5;124mnone\u001b[39m\u001b[38;5;124m'\u001b[39m)\n\u001b[0;32m-> 6491\u001b[0m X, Y, C, shading \u001b[38;5;241m=\u001b[39m \u001b[38;5;28;43mself\u001b[39;49m\u001b[38;5;241;43m.\u001b[39;49m\u001b[43m_pcolorargs\u001b[49m\u001b[43m(\u001b[49m\u001b[38;5;124;43m'\u001b[39;49m\u001b[38;5;124;43mpcolormesh\u001b[39;49m\u001b[38;5;124;43m'\u001b[39;49m\u001b[43m,\u001b[49m\u001b[43m \u001b[49m\u001b[38;5;241;43m*\u001b[39;49m\u001b[43margs\u001b[49m\u001b[43m,\u001b[49m\n\u001b[1;32m   6492\u001b[0m \u001b[43m                                    \u001b[49m\u001b[43mshading\u001b[49m\u001b[38;5;241;43m=\u001b[39;49m\u001b[43mshading\u001b[49m\u001b[43m,\u001b[49m\u001b[43m \u001b[49m\u001b[43mkwargs\u001b[49m\u001b[38;5;241;43m=\u001b[39;49m\u001b[43mkwargs\u001b[49m\u001b[43m)\u001b[49m\n\u001b[1;32m   6493\u001b[0m coords \u001b[38;5;241m=\u001b[39m np\u001b[38;5;241m.\u001b[39mstack([X, Y], axis\u001b[38;5;241m=\u001b[39m\u001b[38;5;241m-\u001b[39m\u001b[38;5;241m1\u001b[39m)\n\u001b[1;32m   6495\u001b[0m kwargs\u001b[38;5;241m.\u001b[39msetdefault(\u001b[38;5;124m'\u001b[39m\u001b[38;5;124msnap\u001b[39m\u001b[38;5;124m'\u001b[39m, mpl\u001b[38;5;241m.\u001b[39mrcParams[\u001b[38;5;124m'\u001b[39m\u001b[38;5;124mpcolormesh.snap\u001b[39m\u001b[38;5;124m'\u001b[39m])\n",
      "File \u001b[0;32m~/miniconda3/envs/atmo/lib/python3.11/site-packages/matplotlib/axes/_axes.py:6023\u001b[0m, in \u001b[0;36mAxes._pcolorargs\u001b[0;34m(self, funcname, shading, *args, **kwargs)\u001b[0m\n\u001b[1;32m   6021\u001b[0m \u001b[38;5;28;01mif\u001b[39;00m shading \u001b[38;5;241m==\u001b[39m \u001b[38;5;124m'\u001b[39m\u001b[38;5;124mflat\u001b[39m\u001b[38;5;124m'\u001b[39m:\n\u001b[1;32m   6022\u001b[0m     \u001b[38;5;28;01mif\u001b[39;00m (Nx, Ny) \u001b[38;5;241m!=\u001b[39m (ncols \u001b[38;5;241m+\u001b[39m \u001b[38;5;241m1\u001b[39m, nrows \u001b[38;5;241m+\u001b[39m \u001b[38;5;241m1\u001b[39m):\n\u001b[0;32m-> 6023\u001b[0m         \u001b[38;5;28;01mraise\u001b[39;00m \u001b[38;5;167;01mTypeError\u001b[39;00m(\u001b[38;5;124mf\u001b[39m\u001b[38;5;124m\"\u001b[39m\u001b[38;5;124mDimensions of C \u001b[39m\u001b[38;5;132;01m{\u001b[39;00mC\u001b[38;5;241m.\u001b[39mshape\u001b[38;5;132;01m}\u001b[39;00m\u001b[38;5;124m should\u001b[39m\u001b[38;5;124m\"\u001b[39m\n\u001b[1;32m   6024\u001b[0m                         \u001b[38;5;124mf\u001b[39m\u001b[38;5;124m\"\u001b[39m\u001b[38;5;124m be one smaller than X(\u001b[39m\u001b[38;5;132;01m{\u001b[39;00mNx\u001b[38;5;132;01m}\u001b[39;00m\u001b[38;5;124m) and Y(\u001b[39m\u001b[38;5;132;01m{\u001b[39;00mNy\u001b[38;5;132;01m}\u001b[39;00m\u001b[38;5;124m)\u001b[39m\u001b[38;5;124m\"\u001b[39m\n\u001b[1;32m   6025\u001b[0m                         \u001b[38;5;124mf\u001b[39m\u001b[38;5;124m\"\u001b[39m\u001b[38;5;124m while using shading=\u001b[39m\u001b[38;5;124m'\u001b[39m\u001b[38;5;124mflat\u001b[39m\u001b[38;5;124m'\u001b[39m\u001b[38;5;124m\"\u001b[39m\n\u001b[1;32m   6026\u001b[0m                         \u001b[38;5;124mf\u001b[39m\u001b[38;5;124m\"\u001b[39m\u001b[38;5;124m see help(\u001b[39m\u001b[38;5;132;01m{\u001b[39;00mfuncname\u001b[38;5;132;01m}\u001b[39;00m\u001b[38;5;124m)\u001b[39m\u001b[38;5;124m\"\u001b[39m)\n\u001b[1;32m   6027\u001b[0m \u001b[38;5;28;01melse\u001b[39;00m:    \u001b[38;5;66;03m# ['nearest', 'gouraud']:\u001b[39;00m\n\u001b[1;32m   6028\u001b[0m     \u001b[38;5;28;01mif\u001b[39;00m (Nx, Ny) \u001b[38;5;241m!=\u001b[39m (ncols, nrows):\n",
      "\u001b[0;31mTypeError\u001b[0m: Dimensions of C (38, 15, 6) should be one smaller than X(6) and Y(38) while using shading='flat' see help(pcolormesh)"
     ]
    },
    {
     "data": {
      "image/png": "[encoded data removed]",
      "text/plain": [
       "<Figure size 1600x1500 with 1 Axes>"
      ]
     },
     "metadata": {},
     "output_type": "display_data"
    }
   ],
   "source": [
    "# Set global font settings\n",
    "plt.rcParams[\"font.family\"] = \"serif\"\n",
    "plt.rcParams[\"mathtext.fontset\"] = \"cm\"\n",
    "plt.rcParams[\"xtick.labelsize\"] = 12\n",
    "plt.rcParams[\"ytick.labelsize\"] = 12\n",
    "\n",
    "# Figure setting\n",
    "fig = plt.figure(figsize=(16, 15))\n",
    "gs = gridspec.GridSpec(4, 1, height_ratios=[1, 0.2, 1, 0.2], hspace=0.35)\n",
    "\n",
    "# Upper penel (pcolormesh & contour)\n",
    "ax0 = fig.add_subplot(gs[0])\n",
    "lw_cf = ax0.pcolormesh(\n",
    "    np.linspace(-2.5, 2.5, 6), dims[\"lev\"],\n",
    "    data_daily[\"lw\"], cmap=\"RdBu_r\", norm=TwoSlopeNorm(vcenter=0),\n",
    ")\n",
    "t_cf = ax0.contour(\n",
    "    np.linspace(-3, 2.75, 24), dims[\"lev\"],\n",
    "    data_comp[\"t\"], colors=\"k\", levels=np.arange(-2.5, 2.6, 0.5),\n",
    ")\n",
    "ax0.set_yscale(\"log\")\n",
    "ax0.set_yticks(np.linspace(100, 1000, 10), np.linspace(100, 1000, 10, dtype=int))\n",
    "ax0.set_ylabel(\"Pressure (hPa)\")\n",
    "ax0.set_xticks(np.linspace(-2.5, 2.5, 6))\n",
    "ax0.set_xlim(3, -3)\n",
    "\n",
    "# Lower panel (LW bar plot)\n",
    "ax1 = fig.add_subplot(gs[1], sharex=ax0)\n",
    "lw_positive_cond = np.where(growth_rate_vint[\"lw\"] > 0)[0]\n",
    "lw_negative_cond = np.where(growth_rate_vint[\"lw\"] < 0)[0]\n",
    "\n",
    "ax1.bar(np.linspace(-2.5, 2.5, 6), growth_rate_vint[\"lw\"], width=0.1)\n",
    "ax1.axhline(0, color=\"k\")\n",
    "ax1.set_yticks(np.linspace(-1.5, 1.5, 3))\n",
    "ax1.set_xlim(3, -3)\n",
    "\n",
    "# Align ax1 with ax0\n",
    "pos0 = ax0.get_position()\n",
    "pos1 = ax1.get_position()\n",
    "ax1.set_position([pos1.x0, pos1.y0+0.01, pos0.width, pos1.height])"
   ]
  }
 ],
 "metadata": {
  "kernelspec": {
   "display_name": "atmo",
   "language": "python",
   "name": "python3"
  },
  "language_info": {
   "codemirror_mode": {
    "name": "ipython",
    "version": 3
   },
   "file_extension": ".py",
   "mimetype": "text/x-python",
   "name": "python",
   "nbconvert_exporter": "python",
   "pygments_lexer": "ipython3",
   "version": "3.11.11"
  }
 },
 "nbformat": 4,
 "nbformat_minor": 2
}
